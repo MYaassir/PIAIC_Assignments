{
 "cells": [
  {
   "cell_type": "markdown",
   "metadata": {},
   "source": [
    "# 1. Calculate Area of a Circle"
   ]
  },
  {
   "cell_type": "markdown",
   "metadata": {},
   "source": [
    "#### Write a Python program which accepts the radius of a circle from the user and compute the area.\n",
    "###### Program Console Sample Output 1:\n",
    "###### Input Radius: 0.5\n",
    "###### Area of Circle with radius 0.5 is 0.7853981634"
   ]
  },
  {
   "cell_type": "code",
   "execution_count": 5,
   "metadata": {
    "scrolled": true
   },
   "outputs": [
    {
     "name": "stdout",
     "output_type": "stream",
     "text": [
      " Radius of a Circle : 05\n",
      "Area of the circle : 78.55\n"
     ]
    }
   ],
   "source": [
    "basic_unit = 3.142        # base unit\n",
    "radious_of_circle = float(input(\" Radius of a Circle : \"))\n",
    "area = bu*rc*rc\n",
    "print(\"Area of the circle :\",area)"
   ]
  },
  {
   "cell_type": "markdown",
   "metadata": {},
   "source": [
    "## 2. Check Number either positive, negative or zero"
   ]
  },
  {
   "cell_type": "markdown",
   "metadata": {},
   "source": [
    "#### Write a Python program to check if a number is positive, negative or zero\n",
    "###### Program Console Sample Output 1:\n",
    "###### Enter Number: -1\n",
    "##### Negative Number Entered\n",
    "###### Program Console Sample Output 2:\n",
    "##### Integer: 3\n",
    "##### Positive Number Entered\n",
    "###### Program Console Sample Output 3:\n",
    "##### Integer: 0\n",
    "###### Zero Entered"
   ]
  },
  {
   "cell_type": "code",
   "execution_count": 14,
   "metadata": {
    "scrolled": true
   },
   "outputs": [
    {
     "name": "stdout",
     "output_type": "stream",
     "text": [
      "Enter a Number to find \n",
      "is Positive or Nagative: 8\n",
      "Positive Entry\n"
     ]
    }
   ],
   "source": [
    "number = float(input(\"Enter a Number to find \\nis Positive or Negative: \"))\n",
    "if number > 0:\n",
    "    print(\"Positive Entry\")\n",
    "elif number < 0: \n",
    "    print(\"Negative  Entry\")\n",
    "else:\n",
    "    print(\"Entered a Zero\")"
   ]
  },
  {
   "cell_type": "code",
   "execution_count": 57,
   "metadata": {
    "scrolled": true
   },
   "outputs": [
    {
     "name": "stdout",
     "output_type": "stream",
     "text": [
      "Enter a Number to find \n",
      "is Positive or Nagative: -9\n",
      "Negative  Entry\n"
     ]
    }
   ],
   "source": [
    "number = float(input(\"Enter a Number to find \\nis Positive or Negative: \"))\n",
    "if number > 0:\n",
    "    print(\"Positive Entry\")\n",
    "elif number < 0: \n",
    "    print(\"Negative  Entry\")\n",
    "else:\n",
    "    print(\"Entered a Zero\")"
   ]
  },
  {
   "cell_type": "code",
   "execution_count": 58,
   "metadata": {
    "scrolled": true
   },
   "outputs": [
    {
     "name": "stdout",
     "output_type": "stream",
     "text": [
      "Enter a Number to find \n",
      "is Positive or Nagative: 0\n",
      "Entered a Zero\n"
     ]
    }
   ],
   "source": [
    "number = float(input(\"Enter a Number to find \\nis Positive or Negative: \"))\n",
    "if number > 0:\n",
    "    print(\"Positive Entry\")\n",
    "elif number < 0: \n",
    "    print(\"Negative  Entry\")\n",
    "else:\n",
    "    print(\"Entered a Zero\")"
   ]
  },
  {
   "cell_type": "markdown",
   "metadata": {},
   "source": [
    "## 3. Divisibility Check of two numbers"
   ]
  },
  {
   "cell_type": "markdown",
   "metadata": {},
   "source": [
    "#### Write a Python program to check whether a number is completely divisible by another number. Accept two integer values form the user\n",
    "##### Program Console Sample Output 1:\n",
    "###### Enter numerator: 4\n",
    "###### Enter Denominator: 2\n",
    "##### Number 4 is Completely divisible by 2\n",
    "###### Program Console Sample Output 2:\n",
    "##### Enter numerator: 7\n",
    "\n",
    "##### Enter Denominator: 4\n",
    "###### Number 7 is not Completely divisible by 4"
   ]
  },
  {
   "cell_type": "code",
   "execution_count": 60,
   "metadata": {},
   "outputs": [
    {
     "name": "stdout",
     "output_type": "stream",
     "text": [
      "Boxes For Distribute: 6\n",
      "Number of Persons: 2\n",
      "6.0 Boxes Equally Distributed in 2.0 Persons.\n"
     ]
    }
   ],
   "source": [
    "num1 = float (input (\"Boxes For Distribute: \")) \n",
    "num2 = float (input (\"Number of Persons: \"))\n",
    "\n",
    "if num1 == 0:\n",
    "        print(f\"{num1} Boxes For Distribute.\")\n",
    "elif num2 == 0:\n",
    "        print(f\"{num2} Persons to Collect Box\")\n",
    "elif num1 % num2 == 0:\n",
    "    print (f\"{num1} Boxes Equally Distributed in {num2} Persons.\")\n",
    "    \n",
    "else:\n",
    "    print (f\"{num1} Boxes are not Equally Distributed in {num2} Persons.\")"
   ]
  },
  {
   "cell_type": "code",
   "execution_count": 61,
   "metadata": {},
   "outputs": [
    {
     "name": "stdout",
     "output_type": "stream",
     "text": [
      "Boxes For Distribute: 5\n",
      "Number of Persons: 2\n",
      "5.0 Boxes are not Equally Distributed in 2.0 Persons.\n"
     ]
    }
   ],
   "source": [
    "num1 = float (input (\"Boxes For Distribute: \")) \n",
    "num2 = float (input (\"Number of Persons: \"))\n",
    "\n",
    "if num1 == 0:\n",
    "        print(f\"{num1} Boxes For Distribute.\")\n",
    "elif num2 == 0:\n",
    "        print(f\"{num2} Persons to Collect Box\")\n",
    "elif num1 % num2 == 0:\n",
    "    print (f\"{num1} Boxes Equally Distributed in {num2} Persons.\")\n",
    "    \n",
    "else:\n",
    "    print (f\"{num1} Boxes are not Equally Distributed in {num2} Persons.\")"
   ]
  },
  {
   "cell_type": "markdown",
   "metadata": {},
   "source": [
    "## 4. Calculate Volume of a sphere"
   ]
  },
  {
   "cell_type": "markdown",
   "metadata": {},
   "source": [
    "##### Write a Python program to get the volume of a sphere, please take the radius as input from user"
   ]
  },
  {
   "cell_type": "markdown",
   "metadata": {},
   "source": [
    "##### Program Console Output:\n",
    "##### Enter Radius of Sphere: 1\n",
    "###### Volume of the Sphere with Radius 1 is 4.18"
   ]
  },
  {
   "cell_type": "code",
   "execution_count": 41,
   "metadata": {},
   "outputs": [
    {
     "name": "stdout",
     "output_type": "stream",
     "text": [
      "Enter the Radius of the Sphere: 4\n",
      "Volume of the Sphere is: 268.08\n"
     ]
    }
   ],
   "source": [
    "import math\n",
    "radius = float(input(\"Enter the Radius of the Sphere: \"))\n",
    "volume = (4 / 3) * math.pi * (radius**3)\n",
    "volume = round(volume,2)\n",
    "print(\"Volume of the Sphere is: \"+str(volume))"
   ]
  },
  {
   "cell_type": "markdown",
   "metadata": {},
   "source": [
    "## 5. Copy string n times\n",
    "#### Write a Python program to get a string which is n (non-negative integer) copies of a given string.\n",
    "##### Program Console Output: 1\n",
    "##### Enter String: Hi\n",
    "###### How many copies of String you need: 4\n",
    "###### 4 Copies of Hi are HiHiHiHi"
   ]
  },
  {
   "cell_type": "code",
   "execution_count": 48,
   "metadata": {},
   "outputs": [
    {
     "name": "stdout",
     "output_type": "stream",
     "text": [
      "Enter Somrthing for Copaying: HI\n",
      "How many copies you wants ?: 4\n",
      "4 Copies of input are: HIHIHIHI\n"
     ]
    }
   ],
   "source": [
    "word = input(\"Enter Something  for Copying: \")\n",
    "n = int(input(\"How many copies you wants ?: \"))\n",
    "if n > 0:\n",
    "    print(f\"{n} Copies of input are: {word * n}\")\n",
    "else:\n",
    "    print(\"Invalid\")"
   ]
  },
  {
   "cell_type": "markdown",
   "metadata": {},
   "source": [
    "## 6. Check if number is Even or Odd\n",
    "### Write a Python program to find whether a given number (accept from the user) is even or odd, print out an appropriate message to the user\n",
    "#### Program Console Output 1:\n",
    "##### Enter Number: 4\n",
    "###### 4 is Even\n",
    "#### Program Console Output 2:\n",
    "##### Enter Number: 9\n",
    "###### 9 is Odd"
   ]
  },
  {
   "cell_type": "code",
   "execution_count": 62,
   "metadata": {},
   "outputs": [
    {
     "name": "stdout",
     "output_type": "stream",
     "text": [
      "Which Number Do you Want to know \n",
      "is Even or ODD : 50\n",
      "The Number 50 you Entered is Even\n"
     ]
    }
   ],
   "source": [
    "x = int(input('Which Number Do you Want to know \\nis Even or ODD : '))\n",
    "if x % 2 == 0:\n",
    "    print (f\"The Number {x} you Entered is Even\")\n",
    "else:\n",
    "    print(f\"The Number {x} you Entered is ODD\")"
   ]
  },
  {
   "cell_type": "code",
   "execution_count": 63,
   "metadata": {},
   "outputs": [
    {
     "name": "stdout",
     "output_type": "stream",
     "text": [
      "Which Number Do you Want to know \n",
      "is Even or ODD : 55\n",
      "The Number 55 you Entered is ODD\n"
     ]
    }
   ],
   "source": [
    "x = int(input('Which Number Do you Want to know \\nis Even or ODD : '))\n",
    "if x % 2 == 0:\n",
    "    print (f\"The Number {x} you Entered is Even\")\n",
    "else:\n",
    "    print(f\"The Number {x} you Entered is ODD\")"
   ]
  },
  {
   "cell_type": "markdown",
   "metadata": {},
   "source": [
    "## 7. Vowel Tester\n",
    "### Write a Python program to test whether a passed letter is a vowel or not\n",
    "#### Program Console Output 1:\n",
    "##### Enter a character: A\n",
    "###### Letter A is Vowel\n",
    "#### Program Console Output 2:\n",
    "##### Enter a character: e\n",
    "###### Letter e is Vowel\n",
    "#### Program Console Output 2:\n",
    "##### Enter a character: N\n",
    "###### Letter N is not Vowel"
   ]
  },
  {
   "cell_type": "code",
   "execution_count": 76,
   "metadata": {},
   "outputs": [
    {
     "name": "stdout",
     "output_type": "stream",
     "text": [
      "Please Press Any Letter: A\n",
      "You Pressed A Which is Vowel\n"
     ]
    }
   ],
   "source": [
    "letter = input((\"Please Press Any Letter: \"))\n",
    "if letter == 'a' or letter == 'e' or letter == 'i' or letter == 'o' or letter == 'u' or letter == 'A' or letter == 'E' or letter == 'I' or letter == 'O' or letter == 'U':\n",
    "    print(f\"You Pressed {letter} Which is Vowel\")\n",
    "else:\n",
    "    print(f\"You Pressed {letter} Which is not a Vowel\")"
   ]
  },
  {
   "cell_type": "code",
   "execution_count": 77,
   "metadata": {},
   "outputs": [
    {
     "name": "stdout",
     "output_type": "stream",
     "text": [
      "Please Press Any Letter: e\n",
      "You Pressed e Which is Vowel\n"
     ]
    }
   ],
   "source": [
    "letter = input((\"Please Press Any Letter: \"))\n",
    "if letter == 'a' or letter == 'e' or letter == 'i' or letter == 'o' or letter == 'u' or letter == 'A' or letter == 'E' or letter == 'I' or letter == 'O' or letter == 'U':\n",
    "    print(f\"You Pressed {letter} Which is Vowel\")\n",
    "else:\n",
    "    print(f\"You Pressed {letter} Which is not a Vowel\")"
   ]
  },
  {
   "cell_type": "code",
   "execution_count": 78,
   "metadata": {},
   "outputs": [
    {
     "name": "stdout",
     "output_type": "stream",
     "text": [
      "Please Press Any Letter: N\n",
      "You Pressed N Which is not a Vowel\n"
     ]
    }
   ],
   "source": [
    "letter = input((\"Please Press Any Letter: \"))\n",
    "if letter == 'a' or letter == 'e' or letter == 'i' or letter == 'o' or letter == 'u' or letter == 'A' or letter == 'E' or letter == 'I' or letter == 'O' or letter == 'U':\n",
    "    print(f\"You Pressed {letter} Which is Vowel\")\n",
    "else:\n",
    "    print(f\"You Pressed {letter} Which is not a Vowel\")"
   ]
  },
  {
   "cell_type": "markdown",
   "metadata": {},
   "source": [
    "## 8. Triangle area\n",
    "### Write a Python program that will accept the base and height of a triangle and compute the area\n",
    "###### Reference:\n",
    "https://www.mathgoodies.com/lessons/vol1/area_triangle"
   ]
  },
  {
   "cell_type": "code",
   "execution_count": 80,
   "metadata": {},
   "outputs": [
    {
     "name": "stdout",
     "output_type": "stream",
     "text": [
      "Enter the Height of the Triangle: 4\n",
      "Enter the Base of the Triangle: 6\n",
      "\n",
      "\n",
      "Area of the Triangle is: 12.0\n"
     ]
    }
   ],
   "source": [
    "import math\n",
    "height = float(input(\"Enter the Height of the Triangle: \"))\n",
    "base = float(input(\"Enter the Base of the Triangle: \"))\n",
    "area = (height * base)/2\n",
    "area = round(area,2)\n",
    "print(\"\\n\")\n",
    "print(f\"Area of the Triangle is: {area}\")"
   ]
  },
  {
   "cell_type": "markdown",
   "metadata": {},
   "source": [
    "## 9. Calculate Interest\n",
    "### Write a Python program to compute the future value of a specified principal amount, rate of interest, and a number of years\n",
    "#### Program Console Sample 1:\n",
    "##### Please enter principal amount: 10000\n",
    "###### Please Enter Rate of interest in %: 0.1\n",
    "###### Enter number of years for investment: 5\n",
    "###### After 5 years your principal amount 10000 over an interest rate of 0.1 % will be 16105.1"
   ]
  },
  {
   "cell_type": "code",
   "execution_count": 89,
   "metadata": {},
   "outputs": [
    {
     "name": "stdout",
     "output_type": "stream",
     "text": [
      "The Loan Amount ?: 10000\n",
      "What is the Rate of Interest in (%) : 1\n",
      "How many years amount will be return: 5\n",
      "\n",
      "\n",
      "After 5 Years the Loan Amount 10000.0 over an Interest of 1.0. \n",
      "Total Amount of Return will be 16105.100000000006\n"
     ]
    }
   ],
   "source": [
    "principal= float(input(\"The Loan Amount ?: \"))\n",
    "rate = float(input(\"What is the Rate of Interest in (%) : \"))\n",
    "years = int(input(\"How many years amount will be return: \"))\n",
    "import math\n",
    "interestrate = 0.1 * 100\n",
    "interestrate = principal * ((1+ (10/100)) ** years)\n",
    "rate = round(rate, 2)\n",
    "print(\"\\n\")\n",
    "print(f\"After {years} Years the Loan Amount {principal} over an Interest of {rate} \\nTotal Amount of Return will be {interestrate}\")"
   ]
  },
  {
   "cell_type": "markdown",
   "metadata": {},
   "source": [
    "## 10. Euclidean distance\n",
    "### write a Python program to compute the distance between the points (x1, y1) and (x2, y2).\n",
    "#### Program Console Sample 1:\n",
    "###### Enter Co-ordinate for x1: 2\n",
    "###### Enter Co-ordinate for x2: 4\n",
    "###### Enter Co-ordinate for y1: 4\n",
    "###### Enter Co-ordinate for y2: 4\n",
    "###### Distance between points (2, 4) and (4, 4) is 2"
   ]
  },
  {
   "cell_type": "markdown",
   "metadata": {},
   "source": [
    "###### Reference:\n",
    "https://en.wikipedia.org/wiki/Euclidean_distance"
   ]
  },
  {
   "cell_type": "code",
   "execution_count": 115,
   "metadata": {},
   "outputs": [
    {
     "name": "stdout",
     "output_type": "stream",
     "text": [
      "Co-ordinates for Pole 1?: 2\n",
      "Co-ordinates for Pole 2?: 4\n",
      "Co-ordinates for Pole 3?: 4\n",
      "Co-ordinates for Pole 4?: 4\n",
      "\n",
      "\n",
      "The Distance Between Poles (2.0,4.0) and (4.0,4.0) are: 2.0\n"
     ]
    }
   ],
   "source": [
    "x1 = float(input(\"Co-ordinates for Pole 1?: \"))\n",
    "y1 = float(input(\"Co-ordinates for Pole 2?: \"))\n",
    "x2 = float(input(\"Co-ordinates for Pole 3?: \"))\n",
    "y2 = float(input(\"Co-ordinates for Pole 4?: \"))\n",
    "import math\n",
    "distanceformula = math.sqrt(pow(x2-x1,2) + pow(y2-y1,2))\n",
    "distanceformula = round(distanceformula,2)\n",
    "print(\"\\n\")\n",
    "print(f\"The Distance Between Poles ({x1},{y1}) and ({x2},{y2}) are: {distanceformula}\")"
   ]
  },
  {
   "cell_type": "markdown",
   "metadata": {},
   "source": [
    "## 11. Feet to Centimeter Converter\n",
    "### Write a Python program to convert height in feet to centimetres.\n",
    "##### Program Console Sample 1:\n",
    "###### Enter Height in Feet: 5\n",
    "###### There are 152.4 Cm in 5 ft\n",
    "###### Reference:\n",
    "https://www.rapidtables.com/convert/length/feet-to-cm.html"
   ]
  },
  {
   "cell_type": "code",
   "execution_count": 98,
   "metadata": {},
   "outputs": [
    {
     "name": "stdout",
     "output_type": "stream",
     "text": [
      "Please Enter Pipe length in (ft) ?: 5\n",
      "\n",
      "\n",
      "Your Pipe length in centimeter is 152.4cm .\n"
     ]
    }
   ],
   "source": [
    "feet = int(input(\"Please Enter Pipe length in (ft) ?: \"))\n",
    "centimeter = feet * 30.48\n",
    "print(\"\\n\")\n",
    "print(f\"Your Pipe length in centimeter is {centimeter}cm .\")"
   ]
  },
  {
   "cell_type": "markdown",
   "metadata": {},
   "source": [
    "## 12. BMI Calculator\n",
    "### Write a Python program to calculate body mass index\n",
    "##### Program Console Sample 1:\n",
    "###### Enter Height in Cm: 180\n",
    "###### Enter Weight in Kg: 75\n",
    "###### Your BMI is 23.15"
   ]
  },
  {
   "cell_type": "code",
   "execution_count": 113,
   "metadata": {},
   "outputs": [
    {
     "name": "stdout",
     "output_type": "stream",
     "text": [
      "Enter the Height in Centimeter: 152\n",
      "Enter the Weight in Kilogram: 50\n",
      "\n",
      "\n",
      "Height in Centimeters: 152.0cm\n",
      "\n",
      "\n",
      "Weight in Kilogram: 50.0kg\n",
      "\n",
      "\n",
      "Body Mass Index is: 21.64\n",
      "\n",
      "\n",
      "Category: normal weight\n"
     ]
    }
   ],
   "source": [
    "import math\n",
    "height = float(input(\"Enter the Height in Centimeter: \"))\n",
    "weight = float(input(\"Enter the Weight in Kilogram: \"))\n",
    "bmi = (weight / (math.pow(height * 0.01,2)))\n",
    "bmi = round(bmi,2)\n",
    "\n",
    "print(\"\\n\")\n",
    "print(\"Height in Centimeters: \"+str(height)+\"cm\")\n",
    "print(\"\\n\")\n",
    "print(\"Weight in Kilogram: \"+str(weight)+\"kg\")\n",
    "print(\"\\n\")\n",
    "print(\"Body Mass Index is: \"+str(bmi))\n",
    "print(\"\\n\")\n",
    "if bmi <= 15:\n",
    "    print(\"Category: very below underweight\")\n",
    "elif bmi <= 16:\n",
    "    print(\"Category: below underweight\")\n",
    "elif bmi <= 18.5:\n",
    "    print(\"Category: underweight\")\n",
    "elif bmi <= 25:\n",
    "    print(\"Category: normal weight\")\n",
    "elif bmi <= 30:\n",
    "    print(\"Category: overweight\")\n",
    "elif bmi <= 35:\n",
    "    print(\"Category: Moderately overweight\")\n",
    "elif bmi <= 40:\n",
    "    print(\"Category: Severely overweight\")\n",
    "elif bmi <= 185: #the heaviest human being ever recorded his BMI was : 185.5\n",
    "    print(\"Category: Very severely overweight\")\n",
    "else:\n",
    "    print(\"Invalid\")"
   ]
  },
  {
   "cell_type": "markdown",
   "metadata": {},
   "source": [
    "## 13. Sum of n Positive Integers\n",
    "### Write a python program to sum of the first n positive integers\n",
    "#### Program Console Sample 1:\n",
    "###### Enter value of n: 5\n",
    "###### Sum of n Positive integers till 5 is 15"
   ]
  },
  {
   "cell_type": "code",
   "execution_count": 108,
   "metadata": {},
   "outputs": [
    {
     "name": "stdout",
     "output_type": "stream",
     "text": [
      "Enter value in Numbers: 5\n",
      "Sum of positive integers till 5 is 15\n"
     ]
    }
   ],
   "source": [
    "v=int(input(\"Enter value in Numbers: \"))\n",
    "f=0\n",
    "for i in range(1,v+1):\n",
    "    f=f+i\n",
    "print(\"Sum of positive integers till \"+str(v)+\" is \" +str(f))"
   ]
  },
  {
   "cell_type": "markdown",
   "metadata": {},
   "source": [
    "## 14. Digits Sum of a Number\n",
    "### Write a Python program to calculate the sum of the digits in an integer\n",
    "#### Program Console Sample 1:\n",
    "##### Enter a number: 15\n",
    "###### Sum of 1 + 5 is 6\n",
    "#### Program Console Sample 2:\n",
    "##### Enter a number: 1234\n",
    "###### Sum of 1 + 2 + 3 + 4 is 10"
   ]
  },
  {
   "cell_type": "code",
   "execution_count": 111,
   "metadata": {},
   "outputs": [
    {
     "name": "stdout",
     "output_type": "stream",
     "text": [
      "Enter a Number: 15\n",
      "Sum of 1 + 5 is 6\n"
     ]
    }
   ],
   "source": [
    "num = int(input(\"Enter a Number: \"))\n",
    "sum = 0\n",
    "digits = []\n",
    "while num > 0:\n",
    "    temp = num % 10\n",
    "    sum += temp\n",
    "    digits.append(temp)\n",
    "    num //= 10\n",
    "print(\"Sum of \", end=\"\")\n",
    "for digit in reversed(digits):\n",
    "    if digit is digits[0]:\n",
    "        st = \" \"\n",
    "    else:\n",
    "        st = \" + \"\n",
    "    print(digit, end=st)\n",
    "print(\"is\", sum)"
   ]
  },
  {
   "cell_type": "code",
   "execution_count": 2,
   "metadata": {},
   "outputs": [
    {
     "name": "stdout",
     "output_type": "stream",
     "text": [
      "Enter a Number: 123456789\n",
      "Sum of 1 + 2 + 3 + 4 + 5 + 6 + 7 + 8 + 9 is 45\n"
     ]
    }
   ],
   "source": [
    "num = int(input(\"Enter a Number: \"))\n",
    "sum = 0\n",
    "digits = []\n",
    "while num > 0:\n",
    "    temp = num % 10\n",
    "    sum += temp\n",
    "    digits.append(temp)\n",
    "    num //= 10\n",
    "print(\"Sum of \", end=\"\")\n",
    "for digit in reversed(digits):\n",
    "    if digit is digits[0]:\n",
    "        st = \" \"\n",
    "    else:\n",
    "        st = \" + \"\n",
    "    print(digit, end=st)\n",
    "print(\"is\", sum)"
   ]
  },
  {
   "cell_type": "code",
   "execution_count": null,
   "metadata": {},
   "outputs": [],
   "source": []
  }
 ],
 "metadata": {
  "kernelspec": {
   "display_name": "Python 3",
   "language": "python",
   "name": "python3"
  },
  "language_info": {
   "codemirror_mode": {
    "name": "ipython",
    "version": 3
   },
   "file_extension": ".py",
   "mimetype": "text/x-python",
   "name": "python",
   "nbconvert_exporter": "python",
   "pygments_lexer": "ipython3",
   "version": "3.7.3"
  }
 },
 "nbformat": 4,
 "nbformat_minor": 2
}
