{
 "cells": [
  {
   "cell_type": "markdown",
   "metadata": {},
   "source": [
    "# Q1:"
   ]
  },
  {
   "cell_type": "markdown",
   "metadata": {},
   "source": [
    "Think of at least three kinds of your favorite pizza. Store these pizza names in a list, and then use a for loop to print the name of each pizza."
   ]
  },
  {
   "cell_type": "code",
   "execution_count": 1,
   "metadata": {},
   "outputs": [
    {
     "name": "stdout",
     "output_type": "stream",
     "text": [
      "BarBQ\n",
      "Fajita\n",
      "Afghani Boti\n"
     ]
    }
   ],
   "source": [
    "pizzas = [\"BarBQ\", \"Fajita\", \"Afghani Boti\"]\n",
    "for pizza in pizzas:\n",
    "    print(pizza)"
   ]
  },
  {
   "cell_type": "code",
   "execution_count": null,
   "metadata": {},
   "outputs": [],
   "source": []
  },
  {
   "cell_type": "markdown",
   "metadata": {},
   "source": [
    "# Q2"
   ]
  },
  {
   "cell_type": "markdown",
   "metadata": {},
   "source": [
    "Start with your last question , Modify your for loop to print a sentence using the name of the pizza\n",
    "instead of printing just the name of the pizza. For each pizza you should\n",
    "have one line of output containing a simple statement like I like pepperoni\n",
    "pizza."
   ]
  },
  {
   "cell_type": "code",
   "execution_count": 2,
   "metadata": {},
   "outputs": [
    {
     "name": "stdout",
     "output_type": "stream",
     "text": [
      "One of My Favorite Pizza Falour is BarBQ\n",
      "One of My Favorite Pizza Falour is Fajita\n",
      "One of My Favorite Pizza Falour is Afghani Boti\n"
     ]
    }
   ],
   "source": [
    "for pizza in pizzas:\n",
    "    print(f\"One of My Favorite Pizza Falour is {pizza}\")"
   ]
  },
  {
   "cell_type": "code",
   "execution_count": null,
   "metadata": {},
   "outputs": [],
   "source": []
  },
  {
   "cell_type": "code",
   "execution_count": null,
   "metadata": {},
   "outputs": [],
   "source": []
  },
  {
   "cell_type": "markdown",
   "metadata": {},
   "source": [
    "# Q3:"
   ]
  },
  {
   "cell_type": "markdown",
   "metadata": {},
   "source": [
    "Use a for loop to print the numbers from 1 to 20,\n",
    "inclusive."
   ]
  },
  {
   "cell_type": "code",
   "execution_count": 3,
   "metadata": {},
   "outputs": [
    {
     "name": "stdout",
     "output_type": "stream",
     "text": [
      "1\n",
      "2\n",
      "3\n",
      "4\n",
      "5\n",
      "6\n",
      "7\n",
      "8\n",
      "9\n",
      "10\n",
      "11\n",
      "12\n",
      "13\n",
      "14\n",
      "15\n",
      "16\n",
      "17\n",
      "18\n",
      "19\n",
      "20\n"
     ]
    }
   ],
   "source": [
    "for num in range(1,21):\n",
    "    print(num)"
   ]
  },
  {
   "cell_type": "code",
   "execution_count": null,
   "metadata": {},
   "outputs": [],
   "source": []
  },
  {
   "cell_type": "code",
   "execution_count": null,
   "metadata": {},
   "outputs": [],
   "source": []
  },
  {
   "cell_type": "markdown",
   "metadata": {},
   "source": [
    "# Q4:"
   ]
  },
  {
   "cell_type": "markdown",
   "metadata": {},
   "source": [
    "Use the third argument of the range() function to make a list\n",
    "of the odd numbers from 1 to 20. Use a for loop to print each number."
   ]
  },
  {
   "cell_type": "code",
   "execution_count": 4,
   "metadata": {},
   "outputs": [
    {
     "name": "stdout",
     "output_type": "stream",
     "text": [
      "1\n",
      "3\n",
      "5\n",
      "7\n",
      "9\n",
      "11\n",
      "13\n",
      "15\n",
      "17\n",
      "19\n"
     ]
    }
   ],
   "source": [
    "Numbers = list(range(1,21,2))\n",
    "for OddNum in Numbers:\n",
    "    print(OddNum)"
   ]
  },
  {
   "cell_type": "code",
   "execution_count": null,
   "metadata": {},
   "outputs": [],
   "source": []
  },
  {
   "cell_type": "code",
   "execution_count": null,
   "metadata": {},
   "outputs": [],
   "source": []
  },
  {
   "cell_type": "markdown",
   "metadata": {},
   "source": [
    "# Q5:"
   ]
  },
  {
   "cell_type": "markdown",
   "metadata": {},
   "source": [
    "Make a list of the multiples of 3 from 3 to 30. Use a for loop to\n",
    "print the numbers in your list."
   ]
  },
  {
   "cell_type": "code",
   "execution_count": 5,
   "metadata": {},
   "outputs": [
    {
     "name": "stdout",
     "output_type": "stream",
     "text": [
      "3\n",
      "6\n",
      "9\n",
      "12\n",
      "15\n",
      "18\n",
      "21\n",
      "24\n",
      "27\n",
      "30\n"
     ]
    }
   ],
   "source": [
    "Numbers = list(range(3, 31, 3))\n",
    "for OddNum in Numbers:\n",
    "    print(OddNum)"
   ]
  },
  {
   "cell_type": "code",
   "execution_count": null,
   "metadata": {},
   "outputs": [],
   "source": []
  },
  {
   "cell_type": "code",
   "execution_count": null,
   "metadata": {},
   "outputs": [],
   "source": []
  },
  {
   "cell_type": "code",
   "execution_count": null,
   "metadata": {},
   "outputs": [],
   "source": []
  },
  {
   "cell_type": "markdown",
   "metadata": {},
   "source": [
    "# Q6:"
   ]
  },
  {
   "cell_type": "markdown",
   "metadata": {},
   "source": [
    "A number raised to the third power is called a cube. For example,\n",
    "the cube of 2 is written as 2**3 in Python. Make a list of the first 10 cubes (that\n",
    "is, the cube of each integer from 1 through 10), and use a for loop to print out\n",
    "the value of each cube"
   ]
  },
  {
   "cell_type": "code",
   "execution_count": 6,
   "metadata": {},
   "outputs": [
    {
     "name": "stdout",
     "output_type": "stream",
     "text": [
      "1\n",
      "8\n",
      "27\n",
      "64\n",
      "125\n",
      "216\n",
      "343\n",
      "512\n",
      "729\n",
      "1000\n"
     ]
    }
   ],
   "source": [
    "cub3 = []\n",
    "for num in range(1, 11):\n",
    "    cube = num**3\n",
    "    cub3.append(cube)\n",
    "\n",
    "for cube in cub3:\n",
    "    print(cube)"
   ]
  },
  {
   "cell_type": "code",
   "execution_count": null,
   "metadata": {},
   "outputs": [],
   "source": []
  },
  {
   "cell_type": "code",
   "execution_count": null,
   "metadata": {},
   "outputs": [],
   "source": []
  },
  {
   "cell_type": "code",
   "execution_count": null,
   "metadata": {},
   "outputs": [],
   "source": []
  },
  {
   "cell_type": "markdown",
   "metadata": {},
   "source": [
    "# Q7:"
   ]
  },
  {
   "cell_type": "markdown",
   "metadata": {},
   "source": [
    "###### Make a python program that conatains your nine favourite dishes in a list called foods.\n",
    "\n",
    "###### Print the message, The first three items in the list are:. \n",
    "###### Then use a slice to print the first three items from that program’s list.\n",
    "\n",
    "###### Print the message, Three items from the middle of the list are:\n",
    "###### Use a slice to print three items from the middle of the list.\n",
    "\n",
    "###### Print the message, The last three items in the list are:\n",
    "###### Use a slice to print the last three items in the list."
   ]
  },
  {
   "cell_type": "code",
   "execution_count": 9,
   "metadata": {},
   "outputs": [
    {
     "name": "stdout",
     "output_type": "stream",
     "text": [
      "The first three items in the list are:\n",
      "['Biryani', 'Kunna', 'Nihari']\n",
      "\n",
      "\n",
      "Three items from the middle of the list are\n",
      "['Malaiy Boti', 'Chicken Cream', 'Daal Makhni']\n",
      "\n",
      "\n",
      "The last three items in the list are:\n",
      "['Qoorma', 'Alo Gosht', 'Bhindi Qeema']\n"
     ]
    }
   ],
   "source": [
    "Khapoo = [\"Biryani\", \"Kunna\", \"Nihari\", \"Malaiy Boti\", \"Chicken Cream\", \"Daal Makhni\", \"Qoorma\", \"Alo Gosht\", \"Bhindi Qeema\"]\n",
    "\n",
    "first3 = Khapoo[0:3]\n",
    "middle3 = Khapoo[3:6]\n",
    "last3 = Khapoo[6:]\n",
    "print(f\"The first three items in the list are:\\n{first3}\")\n",
    "print(\"\\n\")\n",
    "print(f\"Three items from the middle of the list are\\n{middle3}\")\n",
    "print(\"\\n\")\n",
    "print(f\"The last three items in the list are:\\n{last3}\")"
   ]
  },
  {
   "cell_type": "code",
   "execution_count": null,
   "metadata": {},
   "outputs": [],
   "source": []
  },
  {
   "cell_type": "code",
   "execution_count": null,
   "metadata": {},
   "outputs": [],
   "source": []
  },
  {
   "cell_type": "markdown",
   "metadata": {},
   "source": [
    "# Q8:"
   ]
  },
  {
   "cell_type": "markdown",
   "metadata": {},
   "source": [
    "### Start with your program from your last Question8.\n",
    "###### Make a copy of the list of foods, and call it friend_foods.\n",
    "###### Then, do the following:\n",
    "######    Add a new dish to the original list.\n",
    "######    Add a different dish to the list friend_foodss.\n",
    "######    Prove that you have two separate lists. \n",
    "###### Print the message, My favorite pizzas are: and then use a for loop to print the first list. \n",
    "###### Print the message,\n",
    "###### My friend’s favorite foods are:, and then use a for loop to print the second list.\n",
    "    \n",
    "##### NOTE: Make sure each new dish is stored in the appropriate list."
   ]
  },
  {
   "cell_type": "code",
   "execution_count": 10,
   "metadata": {},
   "outputs": [],
   "source": [
    "friend_foods = Khapoo[0:9] #1st Condition"
   ]
  },
  {
   "cell_type": "code",
   "execution_count": 11,
   "metadata": {},
   "outputs": [],
   "source": [
    "Khapoo.append (\"Charsi Tikka\") #2nd Condition"
   ]
  },
  {
   "cell_type": "code",
   "execution_count": 12,
   "metadata": {},
   "outputs": [],
   "source": [
    "friend_foods.append (\"Bihari Kabab\") #3rd Condition"
   ]
  },
  {
   "cell_type": "code",
   "execution_count": 13,
   "metadata": {},
   "outputs": [
    {
     "name": "stdout",
     "output_type": "stream",
     "text": [
      "['Biryani', 'Kunna', 'Nihari', 'Malaiy Boti', 'Chicken Cream', 'Daal Makhni', 'Qoorma', 'Alo Gosht', 'Bhindi Qeema', 'Charsi Tikka']\n",
      "['Biryani', 'Kunna', 'Nihari', 'Malaiy Boti', 'Chicken Cream', 'Daal Makhni', 'Qoorma', 'Alo Gosht', 'Bhindi Qeema', 'Bihari Kabab']\n",
      "\n",
      "\n",
      "It is Proven that both list are not same.\n"
     ]
    }
   ],
   "source": [
    "print(Khapoo) #4th Condition\n",
    "print(friend_foods)\n",
    "print(\"\\n\")\n",
    "print(\"It is Proven that both list are not same.\")"
   ]
  },
  {
   "cell_type": "code",
   "execution_count": 14,
   "metadata": {},
   "outputs": [
    {
     "name": "stdout",
     "output_type": "stream",
     "text": [
      "My Favorite Pizzas are: \n",
      "BarBQ\n",
      "Fajita\n",
      "Afghani Boti\n"
     ]
    }
   ],
   "source": [
    "print(\"My Favorite Pizzas are: \") #5th Condition\n",
    "for pizza in pizzas:\n",
    "    print(pizza)"
   ]
  },
  {
   "cell_type": "code",
   "execution_count": 15,
   "metadata": {},
   "outputs": [
    {
     "name": "stdout",
     "output_type": "stream",
     "text": [
      "My Friend’s Favorite Foods are: \n",
      "Biryani\n",
      "Kunna\n",
      "Nihari\n",
      "Malaiy Boti\n",
      "Chicken Cream\n",
      "Daal Makhni\n",
      "Qoorma\n",
      "Alo Gosht\n",
      "Bhindi Qeema\n",
      "Bihari Kabab\n"
     ]
    }
   ],
   "source": [
    "print(\"My Friend’s Favorite Foods are: \") #6th Condition\n",
    "for favfr_food in friend_foods:\n",
    "    print(favfr_food)"
   ]
  },
  {
   "cell_type": "code",
   "execution_count": null,
   "metadata": {},
   "outputs": [],
   "source": []
  },
  {
   "cell_type": "code",
   "execution_count": null,
   "metadata": {},
   "outputs": [],
   "source": []
  },
  {
   "cell_type": "markdown",
   "metadata": {},
   "source": [
    "# Q9:"
   ]
  },
  {
   "cell_type": "markdown",
   "metadata": {},
   "source": [
    "Take a user input from console line.Store it in a variable called Alien_color.\n",
    "\n",
    "If the alien’s color is red, print a statement that the player just earned 5 points for shooting the alien.\n",
    "\n",
    "If the alien’s color isn’t green, print a statement that the player just earned 10 points.\n",
    "\n",
    "If the alien's color isn't red or green , print a statment :, Alien is no more....."
   ]
  },
  {
   "cell_type": "code",
   "execution_count": 17,
   "metadata": {},
   "outputs": [
    {
     "name": "stdout",
     "output_type": "stream",
     "text": [
      "What is the Alien Color ?: Red\n",
      "The Player just Earned 5 Points for Shooting the Alien.\n"
     ]
    }
   ],
   "source": [
    "Alien_color = input(\"What is the Alien Color ?: \").lower()\n",
    "if Alien_color == \"red\":\n",
    "    print(\"The Player just Earned 5 Points for Shooting the Alien.\")\n",
    "elif Alien_color == \"green\":\n",
    "    print(\"The player just earned 10 points..\")\n",
    "else: \n",
    "    print(\"Alien is no more...\")"
   ]
  },
  {
   "cell_type": "code",
   "execution_count": 18,
   "metadata": {},
   "outputs": [
    {
     "name": "stdout",
     "output_type": "stream",
     "text": [
      "What is the Alien Color ?: Green\n",
      "The Player just Earned 10 Points.\n"
     ]
    }
   ],
   "source": [
    "Alien_color = input(\"What is the Alien Color ?: \").lower()\n",
    "if Alien_color == \"red\":\n",
    "    print(\"The player just earned 5 points for shooting the alien\")\n",
    "elif Alien_color == \"green\":\n",
    "    print(\"The Player just Earned 10 Points.\")\n",
    "else: \n",
    "    print(\"Alien is No More...\")"
   ]
  },
  {
   "cell_type": "code",
   "execution_count": 19,
   "metadata": {},
   "outputs": [
    {
     "name": "stdout",
     "output_type": "stream",
     "text": [
      "What is the Alien Color ?: Blue\n",
      "Alien is no more...\n"
     ]
    }
   ],
   "source": [
    "Alien_color = input(\"What is the Alien Color ?: \").lower()\n",
    "if Alien_color == \"red\":\n",
    "    print(\"The player just earned 5 points for shooting the alien\")\n",
    "elif Alien_color == \"green\":\n",
    "    print(\"The player just earned 10 points..\")\n",
    "else: \n",
    "    print(\"Alien is no more...\")"
   ]
  },
  {
   "cell_type": "code",
   "execution_count": null,
   "metadata": {},
   "outputs": [],
   "source": []
  },
  {
   "cell_type": "markdown",
   "metadata": {},
   "source": [
    "# Q10:"
   ]
  },
  {
   "cell_type": "markdown",
   "metadata": {},
   "source": [
    "Write an if-elif-else chain that determines a person’s\n",
    "stage of life. Set a value for the variable age, and then:\n",
    "    \n",
    "•\t If the person is less than 2 years old, print a message that the person is a baby.\n",
    "\n",
    "•\t If the person is at least 2 years old but less than 4, print a message that the person is a toddler.\n",
    "\n",
    "•\t If the person is at least 4 years old but less than 13, print a message that the person is a kid.\n",
    "\n",
    "•\t If the person is at least 13 years old but less than 20, print a message that the person is a teenager.\n",
    "\n",
    "•\t If the person is at least 20 years old but less than 65, print a message that the person is an adult.\n",
    "\n",
    "•\t If the person is age 65 or older, print a message that the person is an elder."
   ]
  },
  {
   "cell_type": "code",
   "execution_count": 20,
   "metadata": {},
   "outputs": [
    {
     "name": "stdout",
     "output_type": "stream",
     "text": [
      "What is your age? :34\n",
      "The Person is a Adult\n"
     ]
    }
   ],
   "source": [
    "age = int(float(input(\"What is your age? :\")))\n",
    "if age <=1:\n",
    "    print(\"The Person is a Baby\")\n",
    "elif age <=3:\n",
    "    print(\"the person is a Toddler\")\n",
    "elif age <=12:\n",
    "    print(\"the person is a Kid\")\n",
    "elif age <=19:\n",
    "    print(\"The Person is a Teenager\")\n",
    "elif age <=64:\n",
    "    print(\"The Person is a Adult\")\n",
    "else:\n",
    "    print(\"The Person is an Elder\")"
   ]
  },
  {
   "cell_type": "code",
   "execution_count": null,
   "metadata": {},
   "outputs": [],
   "source": []
  },
  {
   "cell_type": "markdown",
   "metadata": {},
   "source": [
    "# Q11:"
   ]
  },
  {
   "cell_type": "markdown",
   "metadata": {},
   "source": [
    "Do the following to create a program that simulates how websites ensure that everyone has a unique username.\n",
    "\n",
    "•\t Make a list of five or more usernames called current_users.\n",
    "\n",
    "•\t Make another list of five usernames called new_users. \n",
    "Make sure one or two of the new usernames are also in the current_users list.\n",
    "\n",
    "•\t Loop through the new_users list to see if each new username has already been used. \n",
    "If it has, print a message that the person will need to enter a new username. \n",
    "If a username has not been used, print a message saying that the username is available.\n",
    "\n",
    "•\t Make sure your comparison is case insensitive. If 'John' has been used, 'JOHN' should not be accepted."
   ]
  },
  {
   "cell_type": "code",
   "execution_count": 21,
   "metadata": {},
   "outputs": [],
   "source": [
    "current_users = [\"alex90\", \"owais78\", \"faizan53\", \"Yasir28\", \"ZOHAIB44\" ]\n",
    "new_users = [\"ehsan42\", \"YASIR28\", \"azhar22\", \"asad58\", \"Zohaib44\" ]"
   ]
  },
  {
   "cell_type": "code",
   "execution_count": 23,
   "metadata": {},
   "outputs": [
    {
     "name": "stdout",
     "output_type": "stream",
     "text": [
      "That's Great, This Username: ehsan42 is available.\n",
      "The Person will Need to Enter a New Username, This Username: YASIR28, is Already Taken.\n",
      "That's Great, This Username: azhar22 is available.\n",
      "That's Great, This Username: asad58 is available.\n",
      "The Person will Need to Enter a New Username, This Username: Zohaib44, is Already Taken.\n"
     ]
    }
   ],
   "source": [
    "current_users_lower = [user.lower() for user in current_users]\n",
    "\n",
    "for new_user in new_users:\n",
    "    if new_user.lower() in current_users_lower:\n",
    "        print(\"The Person will Need to Enter a New Username, This Username: \" + new_user + \", is Already Taken.\")\n",
    "    else:\n",
    "        print(\"That's Great, This Username: \" + new_user + \" is available.\")"
   ]
  },
  {
   "cell_type": "code",
   "execution_count": null,
   "metadata": {},
   "outputs": [],
   "source": []
  },
  {
   "cell_type": "markdown",
   "metadata": {},
   "source": [
    "# Q12:"
   ]
  },
  {
   "cell_type": "markdown",
   "metadata": {},
   "source": [
    "Use a dictionary to store information about a person you know.\n",
    "Store their first name, last name, age, and the city in which they live. \n",
    "You should have keys such as first_name, last_name, age, and city. \n",
    "Print each piece of information stored in your dictionary"
   ]
  },
  {
   "cell_type": "code",
   "execution_count": 24,
   "metadata": {},
   "outputs": [],
   "source": [
    "friend = {\"first_name\" : \"Zohaib\", \"last_name\":\"Jameel\", \"age\": \"27\", \"city\": \"Karachi\"}"
   ]
  },
  {
   "cell_type": "code",
   "execution_count": 25,
   "metadata": {},
   "outputs": [
    {
     "name": "stdout",
     "output_type": "stream",
     "text": [
      "What is the Frist Name of you Friend? : Zohaib\n",
      "What is the Last Name of you Friend?  : Jameel\n",
      "What is the age of your Friend?       : 27\n",
      "In Which City your Friend is Living ? : Karachi\n"
     ]
    }
   ],
   "source": [
    "print(\"What is the Frist Name of you Friend? : \" + friend[\"first_name\"])\n",
    "print(\"What is the Last Name of you Friend?  : \" + friend[\"last_name\"])\n",
    "print(\"What is the age of your Friend?       : \" + friend[\"age\"])\n",
    "print(\"In Which City your Friend is Living ? : \" + friend[\"city\"])"
   ]
  },
  {
   "cell_type": "code",
   "execution_count": null,
   "metadata": {},
   "outputs": [],
   "source": []
  },
  {
   "cell_type": "markdown",
   "metadata": {},
   "source": [
    "# Q13:"
   ]
  },
  {
   "cell_type": "markdown",
   "metadata": {},
   "source": [
    "Starts with your last question 12 , loop through the dictionary’s keys and values.\n",
    "When you’re sure that your loop works, add five more Python terms to your\n",
    "dictionary . When you run your program again, these new words and meanings\n",
    "should automatically be included in the output."
   ]
  },
  {
   "cell_type": "code",
   "execution_count": 31,
   "metadata": {},
   "outputs": [
    {
     "name": "stdout",
     "output_type": "stream",
     "text": [
      "Your Friend's first_name is Zohaib\n",
      "Your Friend's last_name is Jameel\n",
      "Your Friend's age is 27\n",
      "Your Friend's city is Karachi\n",
      "Your Friend's marital_status is Single\n",
      "Your Friend's gendar is Male\n",
      "Your Friend's religion is Islam\n",
      "Your Friend's education_level is Bachlors\n",
      "Your Friend's province is Sindh\n"
     ]
    }
   ],
   "source": [
    "for frnd_key, frnd_val in friend.items():\n",
    "    print(\"Your Friend's \" + frnd_key + \" is \"+ frnd_val)\n",
    "\n",
    "friend[\"marital_status\"] = \"Single\"\n",
    "friend[\"gendar\"] = \"Male\"\n",
    "friend[\"religion\"] = \"Islam\"\n",
    "friend[\"education_level\"] = \"Bachlors\"\n",
    "friend[\"province\"] = \"Sindh\""
   ]
  },
  {
   "cell_type": "code",
   "execution_count": 28,
   "metadata": {},
   "outputs": [],
   "source": []
  },
  {
   "cell_type": "code",
   "execution_count": null,
   "metadata": {},
   "outputs": [],
   "source": []
  },
  {
   "cell_type": "markdown",
   "metadata": {},
   "source": [
    "# Q14:"
   ]
  },
  {
   "cell_type": "markdown",
   "metadata": {},
   "source": [
    "Make a dictionary containing three major rivers and the country\n",
    "each river runs through. One key-value pair might be 'nile': 'egypt'.\n",
    "    \n",
    "    \n",
    "•\t Use a loop to print a sentence about each river, such as The Nile runs\n",
    "through Egypt.\n",
    "\n",
    "NOTE: use upper case through keys and values."
   ]
  },
  {
   "cell_type": "code",
   "execution_count": 32,
   "metadata": {},
   "outputs": [],
   "source": [
    "riv = {\"Heilong River\":\"China\", \"Indus River\": \"Paksitan\", \"Geylang River\": \"Singapore\"}"
   ]
  },
  {
   "cell_type": "code",
   "execution_count": 34,
   "metadata": {},
   "outputs": [
    {
     "name": "stdout",
     "output_type": "stream",
     "text": [
      "The Heilong River runs Through China.\n",
      "\n",
      "The Indus River runs Through Paksitan.\n",
      "\n",
      "The Geylang River runs Through Singapore.\n",
      "\n"
     ]
    }
   ],
   "source": [
    "for riv_key, riv_val in riv.items():\n",
    "    print(\"The \"+ riv_key + \" runs Through \"+ riv_val + \".\\n\")"
   ]
  },
  {
   "cell_type": "code",
   "execution_count": null,
   "metadata": {},
   "outputs": [],
   "source": []
  },
  {
   "cell_type": "markdown",
   "metadata": {},
   "source": [
    "# Q15:"
   ]
  },
  {
   "cell_type": "markdown",
   "metadata": {},
   "source": [
    "Make several dictionaries, where the name of each dictionary is the\n",
    "name of a pet. In each dictionary, include the kind of animal and the owner’s\n",
    "name. Store these dictionaries in a list called pets. Next, loop through your list\n",
    "and as you do print everything you know about each pet."
   ]
  },
  {
   "cell_type": "code",
   "execution_count": 35,
   "metadata": {},
   "outputs": [],
   "source": [
    "python = {\"Kind\":\"Reptiles\", \"Owner's Name\":\"Guido van Rossum\", \"Animal\": \"Python\"}\n",
    "horse = {\"Kind\":\"Mammals\", \"Owner's Name\":\"Al-Mkhtoom\", \"Animal\": \"Horse\"}\n",
    "peacock = {\"Kind\":\"Birds\", \"Owner's Name\":\"Sana\", \"Animal\": \"Peacock\"}\n",
    "pets = [python, horse, peacock]"
   ]
  },
  {
   "cell_type": "code",
   "execution_count": 36,
   "metadata": {},
   "outputs": [
    {
     "name": "stdout",
     "output_type": "stream",
     "text": [
      "GUIDO VAN ROSSUM has a  PYTHON which is REPTILES .\n",
      "\n",
      "AL-MKHTOOM has a  HORSE which is MAMMALS .\n",
      "\n",
      "SANA has a  PEACOCK which is BIRDS .\n",
      "\n"
     ]
    }
   ],
   "source": [
    "for pet in pets:\n",
    "    print(pet[\"Owner's Name\"].upper(), \"has a \" , pet[\"Animal\"].upper() , \"which is\", pet[\"Kind\"].upper(),\".\\n\")"
   ]
  },
  {
   "cell_type": "code",
   "execution_count": null,
   "metadata": {},
   "outputs": [],
   "source": []
  }
 ],
 "metadata": {
  "kernelspec": {
   "display_name": "Python 3",
   "language": "python",
   "name": "python3"
  },
  "language_info": {
   "codemirror_mode": {
    "name": "ipython",
    "version": 3
   },
   "file_extension": ".py",
   "mimetype": "text/x-python",
   "name": "python",
   "nbconvert_exporter": "python",
   "pygments_lexer": "ipython3",
   "version": "3.7.3"
  }
 },
 "nbformat": 4,
 "nbformat_minor": 2
}
