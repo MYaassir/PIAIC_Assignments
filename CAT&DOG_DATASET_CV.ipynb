{
  "nbformat": 4,
  "nbformat_minor": 0,
  "metadata": {
    "colab": {
      "name": "CAT&DOG-DATASET-CV",
      "provenance": [],
      "private_outputs": true,
      "collapsed_sections": [],
      "toc_visible": true,
      "mount_file_id": "1KW5WeOD1Dx6GgsdhZLJAEMV4wEWI3kIr",
      "authorship_tag": "ABX9TyOogAeLBJn+sGdubRdnL3EF"
    },
    "kernelspec": {
      "name": "python3",
      "display_name": "Python 3"
    },
    "accelerator": "TPU"
  },
  "cells": [
    {
      "cell_type": "markdown",
      "metadata": {
        "id": "Of7NW98hVGke",
        "colab_type": "text"
      },
      "source": [
        "# Model for CAT & DOG Classification "
      ]
    },
    {
      "cell_type": "markdown",
      "metadata": {
        "id": "Yo6MYVDtVXkl",
        "colab_type": "text"
      },
      "source": [
        "Data Prepration"
      ]
    },
    {
      "cell_type": "code",
      "metadata": {
        "id": "XvGUtedPYGwS",
        "colab_type": "code",
        "colab": {}
      },
      "source": [
        "import os, shutil\n",
        "\n",
        "#Store Dataset source in variable...\n",
        "original_dataset_cat = '/content/drive/My Drive/Colab Notebooks/Cat&Dog-Dataset/All Images/Cat'\n",
        "original_dataset_dog = '/content/drive/My Drive/Colab Notebooks/Cat&Dog-Dataset/All Images/Dog'\n",
        "\n",
        "#Creating Base Directory\n",
        "base_dir = '/content/drive/My Drive/Colab Notebooks/Cat&Dog-Dataset/Assignment'\n",
        "#os.mkdir(base_dir)\n",
        "\n",
        "#Creating Sub-Directories in Base Directory\n",
        "train_dir = os.path.join(base_dir, 'train')\n",
        "#os.mkdir(train_dir)\n",
        "\n",
        "validation_dir = os.path.join(base_dir, 'validation')\n",
        "#os.mkdir(validation_dir)\n",
        "\n",
        "test_dir = os.path.join(base_dir, 'test')\n",
        "#os.mkdir(test_dir)\n",
        "\n",
        "train_cats_dir = os.path.join(train_dir, 'cats')\n",
        "#os.mkdir(train_cats_dir)\n",
        "\n",
        "train_dogs_dir = os.path.join(train_dir, 'dogs')\n",
        "#os.mkdir(train_dogs_dir)\n",
        "\n",
        "validation_cats_dir = os.path.join(validation_dir, 'cats')\n",
        "#os.mkdir(validation_cats_dir)\n",
        "\n",
        "validation_dogs_dir = os.path.join(validation_dir, 'dogs')\n",
        "#os.mkdir(validation_dogs_dir)\n",
        "\n",
        "test_cats_dir = os.path.join(test_dir, 'cats')\n",
        "#os.mkdir(test_cats_dir)\n",
        "\n",
        "test_dogs_dir = os.path.join(test_dir, 'dogs')\n",
        "#os.mkdir(test_dogs_dir)"
      ],
      "execution_count": 0,
      "outputs": []
    },
    {
      "cell_type": "code",
      "metadata": {
        "id": "94EV176ijI9X",
        "colab_type": "code",
        "colab": {}
      },
      "source": [
        "#Store Cats & Dogs Images in Ralevant Directory\n",
        "#For CATS:\n",
        ".....\n",
        "fnames = ['{}.jpg'.format(i) for i in range(500, 1500)]\n",
        "for fname in fnames:\n",
        "  src = os.path.join(original_dataset_cat, fname)\n",
        "  dst = os.path.join(train_cats_dir, fname)\n",
        "  shutil.copyfile(src, dst)\n",
        "\n",
        "fnames = ['{}.jpg'.format(i) for i in range(1500, 2000)]\n",
        "for fname in fnames:\n",
        "  src = os.path.join(original_dataset_cat, fname)\n",
        "  dst = os.path.join(validation_cats_dir, fname)\n",
        "  shutil.copyfile(src, dst)\n",
        "\n",
        "fnames = ['{}.jpg'.format(i) for i in range(2000, 2500)]\n",
        "for fname in fnames:\n",
        "  src = os.path.join(original_dataset_cat, fname)\n",
        "  dst = os.path.join(test_cats_dir, fname)\n",
        "  shutil.copyfile(src, dst)\n",
        "\n",
        "#For DOGS:\n",
        "fnames = ['{}.jpg'.format(i) for i in range(500, 1500)]\n",
        "for fname in fnames:\n",
        "  src = os.path.join(original_dataset_dog, fname)\n",
        "  dst = os.path.join(train_dogs_dir, fname)\n",
        "  shutil.copyfile(src, dst)\n",
        "\n",
        "fnames = ['{}.jpg'.format(i) for i in range(1500, 2000)]\n",
        "for fname in fnames:\n",
        "  src = os.path.join(original_dataset_dog, fname)\n",
        "  dst = os.path.join(validation_dogs_dir, fname)\n",
        "  shutil.copyfile(src, dst)\n",
        "\n",
        "fnames = ['{}.jpg'.format(i) for i in range(2000, 2500)]\n",
        "for fname in fnames:\n",
        "  src = os.path.join(original_dataset_dog, fname)\n",
        "  dst = os.path.join(test_dogs_dir, fname)\n",
        "  shutil.copyfile(src, dst)\n",
        "....."
      ],
      "execution_count": 0,
      "outputs": []
    },
    {
      "cell_type": "code",
      "metadata": {
        "id": "oWZpysbFIxLI",
        "colab_type": "code",
        "colab": {}
      },
      "source": [
        "#Checking Length of Each Dir...\n",
        "print('total training cat images:', len(os.listdir(train_cats_dir)))\n",
        "\n",
        "print('total training dog images:', len(os.listdir(train_dogs_dir)))\n",
        "\n",
        "print('total validation cat images:', len(os.listdir(validation_cats_dir)))\n",
        "\n",
        "print('total validation dog images:', len(os.listdir(validation_dogs_dir)))\n",
        "\n",
        "print('total test cat images:', len(os.listdir(test_cats_dir)))\n",
        "\n",
        "print('total test dog images:', len(os.listdir(test_dogs_dir)))"
      ],
      "execution_count": 0,
      "outputs": []
    },
    {
      "cell_type": "code",
      "metadata": {
        "id": "aUNoG8CoS9Fh",
        "colab_type": "code",
        "colab": {}
      },
      "source": [
        "#Building a network...\n",
        "from keras import layers\n",
        "from keras import models\n",
        "\n",
        "model = models.Sequential()\n",
        "model.add(layers.Conv2D(32, (3, 3), activation='relu',\n",
        "input_shape=(150, 150, 3)))\n",
        "model.add(layers.MaxPooling2D((2, 2)))\n",
        "model.add(layers.Conv2D(64, (3, 3), activation='relu'))\n",
        "model.add(layers.MaxPooling2D((2, 2)))\n",
        "model.add(layers.Conv2D(128, (3, 3), activation='relu'))\n",
        "model.add(layers.MaxPooling2D((2, 2)))\n",
        "model.add(layers.Conv2D(128, (3, 3), activation='relu'))\n",
        "model.add(layers.MaxPooling2D((2, 2)))\n",
        "model.add(layers.Flatten())\n",
        "model.add(layers.Dense(512, activation='relu'))\n",
        "model.add(layers.Dense(1, activation='sigmoid'))\n",
        "\n",
        "model.summary()"
      ],
      "execution_count": 0,
      "outputs": []
    },
    {
      "cell_type": "code",
      "metadata": {
        "id": "G_kQYc-WTp2g",
        "colab_type": "code",
        "colab": {}
      },
      "source": [
        "#Configuring the model for training\n",
        "\n",
        "from keras import optimizers\n",
        "model.compile(loss='binary_crossentropy', optimizer=optimizers.RMSprop(lr=1e-4), metrics=['acc'])"
      ],
      "execution_count": 0,
      "outputs": []
    },
    {
      "cell_type": "code",
      "metadata": {
        "id": "LbnhNumgT4J2",
        "colab_type": "code",
        "colab": {}
      },
      "source": [
        "#Processing the Data Using ImageDataGen...\n",
        "from keras.preprocessing.image import ImageDataGenerator\n",
        "\n",
        "train_datagen = ImageDataGenerator(rescale=1./255)\n",
        "test_datagen = ImageDataGenerator(rescale=1./255)\n",
        "\n",
        "train_generator = train_datagen.flow_from_directory(train_dir,\n",
        "target_size=(150, 150), batch_size=20, class_mode='binary')\n",
        "\n",
        "validation_generator = test_datagen.flow_from_directory(\n",
        "validation_dir,target_size=(150, 150), batch_size=20,class_mode='binary')\n"
      ],
      "execution_count": 0,
      "outputs": []
    },
    {
      "cell_type": "code",
      "metadata": {
        "id": "skHMzQg4cwaI",
        "colab_type": "code",
        "colab": {}
      },
      "source": [
        "#For Checking Preprocesed Data Dims...\n",
        "for data_batch, labels_batch in train_generator:\n",
        "  print('data batch shape:', data_batch.shape)\n",
        "  print('labels batch shape:', labels_batch.shape)\n",
        "  break"
      ],
      "execution_count": 0,
      "outputs": []
    },
    {
      "cell_type": "code",
      "metadata": {
        "id": "XL4j2x7EefHe",
        "colab_type": "code",
        "colab": {}
      },
      "source": [
        "#Fit_generator the model using a batch generator\n",
        "history = model.fit_generator(\n",
        "train_generator,\n",
        "steps_per_epoch=100,\n",
        "epochs=30,\n",
        "validation_data=validation_generator,\n",
        "validation_steps=50)"
      ],
      "execution_count": 0,
      "outputs": []
    },
    {
      "cell_type": "code",
      "metadata": {
        "id": "IIzFxHeCsbEh",
        "colab_type": "code",
        "colab": {}
      },
      "source": [
        "#Saving the model for later use...\n",
        "model.save('/content/drive/My Drive/Colab Notebooks/Cat&Dog-Dataset/Assignment/cats_and_dogs_simple_1.h5')"
      ],
      "execution_count": 0,
      "outputs": []
    },
    {
      "cell_type": "code",
      "metadata": {
        "id": "RFfJlVFIdcQ4",
        "colab_type": "code",
        "colab": {}
      },
      "source": [
        "#Lets See loss and accuracy during training...\n",
        "import matplotlib.pyplot as plt\n",
        "acc = history.history['acc']\n",
        "val_acc = history.history['val_acc']\n",
        "loss = history.history['loss']\n",
        "val_loss = history.history['val_loss']\n",
        "epochs = range(1, len(acc) + 1)\n",
        "plt.plot(epochs, acc, 'bo', label='Training acc')\n",
        "plt.plot(epochs, val_acc, 'b', label='Validation acc')\n",
        "plt.title('Training and validation accuracy')\n",
        "plt.legend()\n",
        "plt.figure()\n",
        "plt.plot(epochs, loss, 'bo', label='Training loss')\n",
        "plt.plot(epochs, val_loss, 'b', label='Validation loss')\n",
        "plt.title('Training and validation loss')\n",
        "plt.legend()\n",
        "plt.show()"
      ],
      "execution_count": 0,
      "outputs": []
    },
    {
      "cell_type": "code",
      "metadata": {
        "id": "vHiEJVahzA53",
        "colab_type": "code",
        "colab": {}
      },
      "source": [
        "#Setting up a Data Augmentation configuration...\n",
        "datagen = ImageDataGenerator(rotation_range=40, width_shift_range=0.2,\n",
        "height_shift_range=0.2, shear_range=0.2, zoom_range=0.2, horizontal_flip=True,\n",
        "fill_mode='nearest')"
      ],
      "execution_count": 0,
      "outputs": []
    },
    {
      "cell_type": "code",
      "metadata": {
        "id": "KIgYr_gXziCa",
        "colab_type": "code",
        "colab": {}
      },
      "source": [
        "from keras.preprocessing import image\n",
        "fnames = [os.path.join(train_cats_dir, fname) \n",
        "for fname in os.listdir(train_cats_dir)]\n",
        "img_path = fnames[10]\n",
        "img = image.load_img(img_path, target_size=(150, 150))\n",
        "x = image.img_to_array(img)\n",
        "x = x.reshape((1,) + x.shape)\n",
        "i=0\n",
        "for batch in datagen.flow(x, batch_size=1):\n",
        "  plt.figure(i)\n",
        "  imgplot = plt.imshow(image.array_to_img(batch[0]))\n",
        "  i+=1\n",
        "  if i % 4 == 0:\n",
        "    break\n",
        "plt.show()\n",
        "\n"
      ],
      "execution_count": 0,
      "outputs": []
    },
    {
      "cell_type": "code",
      "metadata": {
        "id": "Mzp5MzF138wE",
        "colab_type": "code",
        "colab": {}
      },
      "source": [
        "#\n",
        "model = models.Sequential()\n",
        "model.add(layers.Conv2D(32, (3, 3), activation='relu',\n",
        "input_shape=(150, 150, 3)))\n",
        "model.add(layers.MaxPooling2D((2, 2)))\n",
        "model.add(layers.Conv2D(64, (3, 3), activation='relu'))\n",
        "model.add(layers.MaxPooling2D((2, 2)))\n",
        "model.add(layers.Conv2D(128, (3, 3), activation='relu'))\n",
        "model.add(layers.MaxPooling2D((2, 2)))\n",
        "model.add(layers.Conv2D(128, (3, 3), activation='relu'))\n",
        "model.add(layers.MaxPooling2D((2, 2)))\n",
        "model.add(layers.Flatten())\n",
        "model.add(layers.Dropout(0.5))\n",
        "model.add(layers.Dense(512, activation='relu'))\n",
        "model.add(layers.Dense(1, activation='sigmoid'))\n",
        "model.compile(loss='binary_crossentropy',\n",
        "optimizer=optimizers.RMSprop(lr=1e-4),\n",
        "metrics=['acc'])"
      ],
      "execution_count": 0,
      "outputs": []
    }
  ]
}