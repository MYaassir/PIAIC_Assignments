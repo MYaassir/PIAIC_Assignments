{
  "nbformat": 4,
  "nbformat_minor": 0,
  "metadata": {
    "colab": {
      "name": "CAT&DOG-DATASET-CV-FixingOF",
      "provenance": [],
      "private_outputs": true,
      "collapsed_sections": [],
      "toc_visible": true,
      "mount_file_id": "1XID9nSQQX1nfBc5xgfGT9QdLPwLa5SVM",
      "authorship_tag": "ABX9TyP/QnKjbdM3NYteh3c1bCd4"
    },
    "kernelspec": {
      "name": "python3",
      "display_name": "Python 3"
    },
    "accelerator": "TPU"
  },
  "cells": [
    {
      "cell_type": "markdown",
      "metadata": {
        "id": "Of7NW98hVGke",
        "colab_type": "text"
      },
      "source": [
        "# Model for CAT & DOG Classification "
      ]
    },
    {
      "cell_type": "markdown",
      "metadata": {
        "id": "Yo6MYVDtVXkl",
        "colab_type": "text"
      },
      "source": [
        "Data Prepration"
      ]
    },
    {
      "cell_type": "code",
      "metadata": {
        "id": "XvGUtedPYGwS",
        "colab_type": "code",
        "colab": {}
      },
      "source": [
        "import os, shutil\n",
        "\n",
        "#Store Dataset source in variable...\n",
        "original_dataset_cat = '/content/drive/My Drive/Colab Notebooks/Cat&Dog-Dataset/All Images/Cat'\n",
        "original_dataset_dog = '/content/drive/My Drive/Colab Notebooks/Cat&Dog-Dataset/All Images/Dog'\n",
        "\n",
        "#Creating Base Directory\n",
        "base_dir = '/content/drive/My Drive/Colab Notebooks/Cat&Dog-Dataset/Assignment'\n",
        "#os.mkdir(base_dir)\n",
        "\n",
        "#Creating Sub-Directories in Base Directory\n",
        "train_dir = os.path.join(base_dir, 'train')\n",
        "#os.mkdir(train_dir)\n",
        "\n",
        "validation_dir = os.path.join(base_dir, 'validation')\n",
        "#os.mkdir(validation_dir)\n",
        "\n",
        "test_dir = os.path.join(base_dir, 'test')\n",
        "#os.mkdir(test_dir)\n",
        "\n",
        "train_cats_dir = os.path.join(train_dir, 'cats')\n",
        "#os.mkdir(train_cats_dir)\n",
        "\n",
        "train_dogs_dir = os.path.join(train_dir, 'dogs')\n",
        "#os.mkdir(train_dogs_dir)\n",
        "\n",
        "validation_cats_dir = os.path.join(validation_dir, 'cats')\n",
        "#os.mkdir(validation_cats_dir)\n",
        "\n",
        "validation_dogs_dir = os.path.join(validation_dir, 'dogs')\n",
        "#os.mkdir(validation_dogs_dir)\n",
        "\n",
        "test_cats_dir = os.path.join(test_dir, 'cats')\n",
        "#os.mkdir(test_cats_dir)\n",
        "\n",
        "test_dogs_dir = os.path.join(test_dir, 'dogs')\n",
        "#os.mkdir(test_dogs_dir)"
      ],
      "execution_count": 0,
      "outputs": []
    },
    {
      "cell_type": "code",
      "metadata": {
        "id": "vHiEJVahzA53",
        "colab_type": "code",
        "colab": {}
      },
      "source": [
        "#Setting up a Data Augmentation configuration...\n",
        "from keras.preprocessing.image import ImageDataGenerator\n",
        "datagen = ImageDataGenerator(rotation_range=40, width_shift_range=0.2,\n",
        "height_shift_range=0.2, shear_range=0.2, zoom_range=0.2, horizontal_flip=True,\n",
        "fill_mode='nearest')"
      ],
      "execution_count": 0,
      "outputs": []
    },
    {
      "cell_type": "code",
      "metadata": {
        "id": "KIgYr_gXziCa",
        "colab_type": "code",
        "colab": {}
      },
      "source": [
        "#Randomly Check Augmented Training Images\n",
        "import matplotlib.pyplot as plt\n",
        "from keras.preprocessing import image\n",
        "fnames = [os.path.join(train_cats_dir, fname) \n",
        "for fname in os.listdir(train_cats_dir)]\n",
        "img_path = fnames[20]\n",
        "img = image.load_img(img_path, target_size=(150, 150))\n",
        "x = image.img_to_array(img)\n",
        "x = x.reshape((1,) + x.shape)\n",
        "i=0\n",
        "for batch in datagen.flow(x, batch_size=1):\n",
        "  plt.figure(i)\n",
        "  imgplot = plt.imshow(image.array_to_img(batch[0]))\n",
        "  i+=1\n",
        "  if i % 1 == 0:\n",
        "    break\n",
        "plt.show()"
      ],
      "execution_count": 0,
      "outputs": []
    },
    {
      "cell_type": "code",
      "metadata": {
        "id": "Mzp5MzF138wE",
        "colab_type": "code",
        "colab": {}
      },
      "source": [
        "#Model for fixing Overfitting with Dropout...\n",
        "from keras import models\n",
        "from keras import layers\n",
        "from keras import optimizers\n",
        "model = models.Sequential()\n",
        "model.add(layers.Conv2D(32, (3, 3), activation='relu',\n",
        "input_shape=(150, 150, 3)))\n",
        "model.add(layers.MaxPooling2D((2, 2)))\n",
        "model.add(layers.Conv2D(64, (3, 3), activation='relu'))\n",
        "model.add(layers.MaxPooling2D((2, 2)))\n",
        "model.add(layers.Conv2D(128, (3, 3), activation='relu'))\n",
        "model.add(layers.MaxPooling2D((2, 2)))\n",
        "model.add(layers.Conv2D(128, (3, 3), activation='relu'))\n",
        "model.add(layers.MaxPooling2D((2, 2)))\n",
        "model.add(layers.Flatten())\n",
        "model.add(layers.Dropout(0.5))\n",
        "model.add(layers.Dense(512, activation='relu'))\n",
        "model.add(layers.Dense(1, activation='sigmoid'))\n",
        "model.compile(loss='binary_crossentropy',\n",
        "optimizer=optimizers.RMSprop(lr=1e-4),\n",
        "metrics=['acc'])"
      ],
      "execution_count": 0,
      "outputs": []
    },
    {
      "cell_type": "code",
      "metadata": {
        "id": "_q7tRIG_qZ-q",
        "colab_type": "code",
        "colab": {}
      },
      "source": [
        "#Lets Train the Model...\n",
        "train_datagen = ImageDataGenerator(\n",
        "    rescale=1./255, \n",
        "    rotation_range=40,\n",
        "    width_shift_range=0.2,\n",
        "    height_shift_range=0.2,\n",
        "    shear_range=0.2,\n",
        "    zoom_range=0.2,\n",
        "    horizontal_flip=True,)\n",
        "\n",
        "test_datagen = ImageDataGenerator(rescale=1./255)\n",
        "train_generator = train_datagen.flow_from_directory(\n",
        "    train_dir,\n",
        "    target_size=(150, 150),\n",
        "    batch_size=32,\n",
        "    class_mode='binary')\n",
        "\n",
        "validation_generator = test_datagen.flow_from_directory(\n",
        "    validation_dir,\n",
        "    target_size=(150, 150),\n",
        "    batch_size=32,\n",
        "    class_mode='binary')\n",
        "\n",
        "history = model.fit_generator(\n",
        "    train_generator,\n",
        "    steps_per_epoch=100,\n",
        "    epochs=100,\n",
        "    validation_data=validation_generator,\n",
        "    validation_steps=50)"
      ],
      "execution_count": 0,
      "outputs": []
    },
    {
      "cell_type": "code",
      "metadata": {
        "id": "IIzFxHeCsbEh",
        "colab_type": "code",
        "colab": {}
      },
      "source": [
        "#Saving the model for later use...\n",
        "model.save('/content/drive/My Drive/Colab Notebooks/Cat&Dog-Dataset/Assignment/CAT&DOG-DATASET-CV-FixingOF_1.h5')"
      ],
      "execution_count": 0,
      "outputs": []
    }
  ]
}